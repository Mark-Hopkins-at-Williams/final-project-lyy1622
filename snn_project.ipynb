{
 "cells": [
  {
   "attachments": {},
   "cell_type": "markdown",
   "metadata": {
    "colab_type": "text",
    "id": "nude-BPX9y1B"
   },
   "source": [
    "# Introduction to Spiking Neural Networks"
   ]
  },
  {
   "attachments": {},
   "cell_type": "markdown",
   "metadata": {},
   "source": [
    "In this notebook, we will explore Spiking Neural Networks (SNNs) and see how they stack up against the Convolutional Neural Networks (CNNs) we started learning about earlier in this course: are SNNs a more energy efficient alternative to CNNs? \n",
    "\n",
    "Spiked Neural Networks (SNN) are artificial neural networks that mimic the architecture of neurons. Similarly to how neurons emit a signal after an action potential  is exceeded, SNN layers are discrete values that are spiking or non-spiking at any given time. Given their unique architecture, SSNs require neuromorphic computers in which chips are specifically designed to accommodate these processes.\n",
    "\n",
    "Since SNN are dynamic and change based on time, they are great at processing dynamic inputs such as videos. Additionally, their use of matrix addition as opposed matrix multiplication reduces energy consumption greatly during inference. However, the biggest challenge when working with these networks is in the training, as gradients are essentially nonexistent when each layer is either a 1 or 0. \n",
    "\n",
    "![SNN](snn.jpeg) Photo from: towardsdatascience.com\n",
    "\n",
    "To tackle this challenge, as shown by Wu et al.’s A Little Energy Goes a Long Way: Build an Energy-Efficient, Accurate Spiking Neural Network From Convolutional Neural Network, one can instead convert an already trained CNN into an SNN to allow for both comparable accuracy and reduced energy consumption.\n",
    "\n",
    "Before diving into our comparisons between CNNs and SNNs, we should first establish why it is important for us to utilize neural networks that are energy efficient. Our motivation for this project is heavily inspired by the paper, On the Dangers of Stochastic Parrots: Can Language Models Be Too Big?. In this paper, Bender et al. highlight the possible negative implications of large language models, but the concerns are applicable to training neural networks in general. Bender et al. encourage researchers to weigh the costs and benefits of training their models before doing so, and shift to a mindset of careful planning, which includes experimenting with more energy efficient alternatives, such as SNNs. \n",
    "\n",
    "It is no mystery that training neural networks is a costly endeavor that has a lasting negative environmental impact, specifically through CO2 emissions. The environmental burden caused by training these models disproportionately impacts marginalized communities, who do not have the resources to combat the harms. By utilizing more energy efficient alternatives, such as SNNs, researchers/companies can scale up their experiments ethically, ensuring that they remain mindful of the environment and underrepresented communities when creating their models. If saving the environment and marginalized communities is not convincing enough for researchers, utilizing energy efficient models also has an economic benefit that would in turn lower the barrier to entry for experimenting with neural networks, thus increasing the diversity of people who can contribute to neural network research.\n",
    "\n",
    "![rainforest](rainforest.jpeg) Photo from: planetnatural.com\n",
    "\n",
    "Our exploration of SNNs represents only a small portion of the research that has been done to lessen deep learning’s carbon footprint. There is still so much left to be done to ensure that this growing field of research prioritizes diversity and environmental wellness.\n"
   ]
  },
  {
   "attachments": {},
   "cell_type": "markdown",
   "metadata": {
    "colab_type": "text",
    "id": "ScUKj-prgJHi"
   },
   "source": [
    "Let's first make sure to import all the necessary libraries we will use in our code. You may need to install some of these packages onto your device first such as sinabs."
   ]
  },
  {
   "cell_type": "code",
   "execution_count": 31,
   "metadata": {
    "colab": {
     "base_uri": "https://localhost:8080/",
     "height": 204
    },
    "colab_type": "code",
    "id": "FpaTvxvwgZaQ",
    "outputId": "037133c8-8b34-4859-9097-c57ca0441304"
   },
   "outputs": [],
   "source": [
    "import torch\n",
    "import torch.nn as nn\n",
    "import torch.nn.functional as F\n",
    "from torchvision import datasets, transforms\n",
    "from torch.utils.data import DataLoader\n",
    "from tqdm.auto import tqdm\n",
    "\n",
    "import numpy as np\n",
    "\n",
    "import matplotlib.pyplot as plt\n",
    "\n",
    "import sinabs.layers as sl\n",
    "from sinabs.from_torch import from_model\n"
   ]
  },
  {
   "attachments": {},
   "cell_type": "markdown",
   "metadata": {},
   "source": [
    "----\n",
    "### Test 1 : MNIST\n",
    "----"
   ]
  },
  {
   "attachments": {},
   "cell_type": "markdown",
   "metadata": {
    "colab_type": "text",
    "id": "Ba84nzQ7G3zo"
   },
   "source": [
    "For our first test we will create a cnn and snn that can classify MNIST data. First let's create a class to provide data for the CNN, the __getitem__ method of this class will simply provide a 1×28×28 representation of an MNIST image along with its label."
   ]
  },
  {
   "cell_type": "code",
   "execution_count": 32,
   "metadata": {
    "colab": {},
    "colab_type": "code",
    "id": "JRdVK86kHkQk"
   },
   "outputs": [],
   "source": [
    "class CNN_MNIST(datasets.MNIST):\n",
    "        def __init__(self, root, train=True):\n",
    "            super().__init__(\n",
    "                root=root, train=train, download=True, transform=transforms.ToTensor()\n",
    "            )\n",
    "\n",
    "        def __getitem__(self, index):\n",
    "            img, target = self.data[index].unsqueeze(0) / 255, self.targets[index]\n",
    "            return img, target\n",
    "        \n",
    "mnist_train = CNN_MNIST(\"./data\", train=True)\n",
    "mnist_train_loader = DataLoader(mnist_train, batch_size=128, shuffle=True)\n",
    "mnist_test = CNN_MNIST(\"./data\", train=False)\n",
    "mnist_test_loader = DataLoader(mnist_test, batch_size=10, shuffle=False)"
   ]
  },
  {
   "attachments": {},
   "cell_type": "markdown",
   "metadata": {},
   "source": [
    "We can next create a simple CNN using a torch sequential container and train it using the MNIST data loader we just created. For MNIST data, 2 epochs should be sufficient, but you can increase this number to aim for higher accuracy."
   ]
  },
  {
   "cell_type": "code",
   "execution_count": 33,
   "metadata": {},
   "outputs": [
    {
     "data": {
      "application/vnd.jupyter.widget-view+json": {
       "model_id": "61852e5b89784ffdbf15d3d640b10e93",
       "version_major": 2,
       "version_minor": 0
      },
      "text/plain": [
       "  0%|          | 0/2 [00:00<?, ?it/s]"
      ]
     },
     "metadata": {},
     "output_type": "display_data"
    }
   ],
   "source": [
    "def create_mnist_cnn():\n",
    "    cnn = nn.Sequential(\n",
    "        nn.Conv2d(1, 20, 5, 1, bias=False),\n",
    "        nn.ReLU(),\n",
    "        nn.AvgPool2d(2, 2),\n",
    "        nn.Conv2d(20, 32, 5, 1, bias=False),\n",
    "        nn.ReLU(),\n",
    "        nn.AvgPool2d(2, 2),\n",
    "        nn.Conv2d(32, 128, 3, 1, bias=False),\n",
    "        nn.ReLU(),\n",
    "\n",
    "        nn.AvgPool2d(2, 2),\n",
    "        nn.Flatten(),\n",
    "\n",
    "        nn.Linear(128, 500, bias=False),\n",
    "        nn.ReLU(),\n",
    "        nn.Linear(500, 10, bias=False),\n",
    "    )\n",
    "    return cnn\n",
    "\n",
    "def train_cnn(cnn, train_loader, epochs):\n",
    "    cnn.train()\n",
    "    optim = torch.optim.Adam(cnn.parameters(), lr=1e-3)\n",
    "\n",
    "    for n in tqdm(range(epochs)):\n",
    "        for data, target in iter(train_loader):\n",
    "            output = cnn(data)\n",
    "            optim.zero_grad()\n",
    "\n",
    "            loss = F.cross_entropy(output, target)\n",
    "            loss.backward()\n",
    "            optim.step()\n",
    "    return cnn\n",
    "\n",
    "mnist_cnn = create_mnist_cnn()\n",
    "mnist_cnn = train_cnn(mnist_cnn, train_loader=mnist_train_loader, epochs = 2)"
   ]
  },
  {
   "attachments": {},
   "cell_type": "markdown",
   "metadata": {},
   "source": [
    "We next want to write a function to evaluate the accuracy of our CNN."
   ]
  },
  {
   "cell_type": "code",
   "execution_count": 34,
   "metadata": {},
   "outputs": [
    {
     "data": {
      "application/vnd.jupyter.widget-view+json": {
       "model_id": "592fbd2efb9a4134be8879153ed218d0",
       "version_major": 2,
       "version_minor": 0
      },
      "text/plain": [
       "  0%|          | 0/1000 [00:00<?, ?it/s]"
      ]
     },
     "metadata": {},
     "output_type": "display_data"
    },
    {
     "name": "stdout",
     "output_type": "stream",
     "text": [
      "Classification accuracy: 97.81%\n"
     ]
    },
    {
     "data": {
      "text/plain": [
       "0.9781"
      ]
     },
     "execution_count": 34,
     "metadata": {},
     "output_type": "execute_result"
    }
   ],
   "source": [
    "def cnn_accuracy(cnn, test_loader, will_print = True):\n",
    "    correct_predictions = []\n",
    "\n",
    "    for data, target in tqdm(test_loader):\n",
    "        output = cnn(data)\n",
    "\n",
    "        prediction = output.argmax(dim=1, keepdim=True)\n",
    "\n",
    "        correct_predictions.append(prediction.eq(target.view_as(prediction)))\n",
    "\n",
    "    correct_predictions = torch.cat(correct_predictions)\n",
    "    proportion_correct = correct_predictions.sum().item()/(len(correct_predictions))\n",
    "    if (will_print):\n",
    "        print(\n",
    "            f\"Classification accuracy: {proportion_correct*100}%\"\n",
    "        )\n",
    "    return proportion_correct\n",
    "\n",
    "cnn_accuracy(mnist_cnn, test_loader=mnist_test_loader)\n"
   ]
  },
  {
   "attachments": {},
   "cell_type": "markdown",
   "metadata": {},
   "source": [
    "Great! The accuracy of our simple CNN should be quite high, around ~97%, let's convert this CNN to an SNN now.\n",
    "The first step is to change our MNIST data class slightly so that  the tensor we pass in only consists of 0s or 1s. These are the presynaptic spikes that will modulate the neurons in the SNN. We also need to generate input data for each timestep. We will do this by adding a dimension to the input tensor the length of our timestep (which we will have set to 100 as a default value). For each input, a tensor the size of the original input consisting of a random float will be generated and then compared to the MNIST float value. Thus, for each timestep a pixel of n% value will have an n% chance of being a 1 in the tensor and 0 otherwise."
   ]
  },
  {
   "cell_type": "code",
   "execution_count": 35,
   "metadata": {},
   "outputs": [],
   "source": [
    "class SNN_MNIST(datasets.MNIST):\n",
    "        def __init__(self, root, train=True, time_window = 100):\n",
    "            super().__init__(\n",
    "                root=root, train=train, download=True, transform=transforms.ToTensor()\n",
    "            )\n",
    "            self.time_window = time_window\n",
    "\n",
    "        def __getitem__(self, index):\n",
    "            img, target = self.data[index].unsqueeze(0) / 255, self.targets[index]\n",
    "            img = (torch.rand(self.time_window, *img.shape) < img).float()\n",
    "            return img, target\n",
    "\n",
    "mnist_test_batch_size = 500\n",
    "spike_mnist_test = SNN_MNIST(\"./data\", train=False)\n",
    "spike_test_loader = DataLoader(spike_mnist_test, batch_size=mnist_test_batch_size, shuffle=False)"
   ]
  },
  {
   "attachments": {},
   "cell_type": "markdown",
   "metadata": {},
   "source": [
    "Before we go further let's visualize what this dataloader will give us.\n",
    "Here is what a MNIST image usually looks like:"
   ]
  },
  {
   "cell_type": "code",
   "execution_count": 36,
   "metadata": {},
   "outputs": [
    {
     "data": {
      "image/png": "[encoded data removed]",
      "text/plain": [
       "<Figure size 640x480 with 1 Axes>"
      ]
     },
     "metadata": {},
     "output_type": "display_data"
    }
   ],
   "source": [
    "mnist_id = 50\n",
    "img, label = mnist_test[mnist_id]\n",
    "img = torch.squeeze(img)  \n",
    "plt.imshow(img)\n",
    "plt.show()"
   ]
  },
  {
   "attachments": {},
   "cell_type": "markdown",
   "metadata": {},
   "source": [
    "And here is what a MNIST image from the SNN dataloader looks like: Feel free to rerun the code a couple times to get a sense of the random generation going on."
   ]
  },
  {
   "cell_type": "code",
   "execution_count": 37,
   "metadata": {},
   "outputs": [
    {
     "data": {
      "image/png": "[encoded data removed]",
      "text/plain": [
       "<Figure size 640x480 with 1 Axes>"
      ]
     },
     "metadata": {},
     "output_type": "display_data"
    }
   ],
   "source": [
    "img, label = spike_mnist_test[mnist_id]\n",
    "img = img[1,]\n",
    "img = torch.squeeze(img)  \n",
    "plt.imshow(img)\n",
    "plt.show()"
   ]
  },
  {
   "attachments": {},
   "cell_type": "markdown",
   "metadata": {},
   "source": [
    "Okay, time to create our SNN now! This step is very simple using Sinabs. We just need to use their from_model() function and remember the size of a single input (1,28,28) and the timestep we want to use (100)."
   ]
  },
  {
   "cell_type": "code",
   "execution_count": 38,
   "metadata": {},
   "outputs": [],
   "source": [
    "def convert_to_snn(cnn, input_shape, timesteps):\n",
    "    snn = from_model(\n",
    "        cnn, input_shape=input_shape, add_spiking_output=True, synops=False, num_timesteps=timesteps\n",
    "    )\n",
    "    return snn\n",
    "\n",
    "input_shape = (1, 28, 28)\n",
    "timesteps = 100\n",
    "mnist_snn = convert_to_snn(mnist_cnn, input_shape=input_shape, timesteps=timesteps)"
   ]
  },
  {
   "attachments": {},
   "cell_type": "markdown",
   "metadata": {},
   "source": [
    "Now we can write a function to evaluate the accuracy of our SNN and compare!"
   ]
  },
  {
   "cell_type": "code",
   "execution_count": 39,
   "metadata": {},
   "outputs": [
    {
     "name": "stdout",
     "output_type": "stream",
     "text": [
      "CNN accuracy: \n"
     ]
    },
    {
     "data": {
      "application/vnd.jupyter.widget-view+json": {
       "model_id": "cf6cce7baf714909b439312b0da62f86",
       "version_major": 2,
       "version_minor": 0
      },
      "text/plain": [
       "  0%|          | 0/1000 [00:00<?, ?it/s]"
      ]
     },
     "metadata": {},
     "output_type": "display_data"
    },
    {
     "name": "stdout",
     "output_type": "stream",
     "text": [
      "Classification accuracy: 97.81%\n",
      "SNN accuracy: \n"
     ]
    },
    {
     "data": {
      "application/vnd.jupyter.widget-view+json": {
       "model_id": "46555b2039224db9b75e9d5ecef2169c",
       "version_major": 2,
       "version_minor": 0
      },
      "text/plain": [
       "  0%|          | 0/20 [00:00<?, ?it/s]"
      ]
     },
     "metadata": {},
     "output_type": "display_data"
    },
    {
     "name": "stdout",
     "output_type": "stream",
     "text": [
      "Classification accuracy: 97.74000000000001%\n"
     ]
    },
    {
     "data": {
      "text/plain": [
       "0.9774"
      ]
     },
     "execution_count": 39,
     "metadata": {},
     "output_type": "execute_result"
    }
   ],
   "source": [
    "def snn_accuracy(snn, test_loader, test_batch_size, will_print = True):\n",
    "    correct_predictions = []\n",
    "\n",
    "    for data, target in tqdm(test_loader):\n",
    "        data = sl.FlattenTime()(data)\n",
    "        with torch.no_grad():\n",
    "            output = snn(data)\n",
    "            output = output.unflatten(\n",
    "                0, (test_batch_size, output.shape[0] // test_batch_size)\n",
    "            )\n",
    "\n",
    "        pred = output.sum(1).argmax(dim=1, keepdim=True)\n",
    "        correct_predictions.append(pred.eq(target.view_as(pred)))\n",
    "    correct_predictions = torch.cat(correct_predictions)\n",
    "    proportion_correct = correct_predictions.sum().item()/(len(correct_predictions))\n",
    "    if (will_print):\n",
    "        print(\n",
    "            f\"Classification accuracy: {proportion_correct*100}%\"\n",
    "        )\n",
    "    return proportion_correct\n",
    "print(\"CNN accuracy: \")\n",
    "cnn_accuracy(mnist_cnn, test_loader=mnist_test_loader)\n",
    "print(\"SNN accuracy: \")\n",
    "snn_accuracy(mnist_snn, test_loader = spike_test_loader, test_batch_size=mnist_test_batch_size)"
   ]
  },
  {
   "attachments": {},
   "cell_type": "markdown",
   "metadata": {},
   "source": [
    "We can also now visualize the post-synaptic spikes to see how our SNN is classifying MNIST images. Change the mnist_id number to look at other data. This visualization is also useful because we can see what other numbers the model sometimes confuses the correct answer with."
   ]
  },
  {
   "cell_type": "code",
   "execution_count": 40,
   "metadata": {},
   "outputs": [
    {
     "name": "stdout",
     "output_type": "stream",
     "text": [
      "Label: 6\n"
     ]
    },
    {
     "data": {
      "image/png": "[encoded data removed]",
      "text/plain": [
       "<Figure size 640x480 with 1 Axes>"
      ]
     },
     "metadata": {},
     "output_type": "display_data"
    }
   ],
   "source": [
    "#Change this number to visualize other data\n",
    "mnist_id = 50\n",
    "\n",
    "img, label = spike_mnist_test[mnist_id]\n",
    "snn_output = mnist_snn(img)\n",
    "\n",
    "print(\"Label: \" + str(label.item()))\n",
    "plt.pcolormesh(snn_output.T.detach().cpu())\n",
    "plt.ylabel(\"Neuron ID\")\n",
    "plt.yticks(np.arange(10) + 0.5, np.arange(10))\n",
    "plt.xlabel(\"Time\")\n",
    "plt.show()"
   ]
  },
  {
   "attachments": {},
   "cell_type": "markdown",
   "metadata": {},
   "source": [
    "----\n",
    "### Test 2: CIFAR-10\n",
    "----"
   ]
  },
  {
   "attachments": {},
   "cell_type": "markdown",
   "metadata": {
    "colab_type": "text",
    "id": "2UXLsLOZD7rV"
   },
   "source": [
    "One of the great aspects about this conversion pipeline is we can create an SNN for other types of data with minimal changes. Let's next create an SNN for classifying CIFAR-10 images which are 3 (RGB) channel. Let's first make a CIFAR-10 class for CNN training."
   ]
  },
  {
   "cell_type": "code",
   "execution_count": 41,
   "metadata": {
    "colab": {},
    "colab_type": "code",
    "id": "AP2SpKkQh04j"
   },
   "outputs": [
    {
     "name": "stdout",
     "output_type": "stream",
     "text": [
      "Downloading https://www.cs.toronto.edu/~kriz/cifar-10-python.tar.gz to ./data/cifar-10-python.tar.gz\n"
     ]
    },
    {
     "name": "stderr",
     "output_type": "stream",
     "text": [
      "100%|██████████| 170498071/170498071 [00:19<00:00, 8854405.20it/s] \n"
     ]
    },
    {
     "name": "stdout",
     "output_type": "stream",
     "text": [
      "Extracting ./data/cifar-10-python.tar.gz to ./data\n",
      "Files already downloaded and verified\n"
     ]
    }
   ],
   "source": [
    "class CNN_CIFAR10(datasets.CIFAR10):\n",
    "        def __init__(self, root, train=True):\n",
    "            super().__init__(\n",
    "                root=root, train=train, download=True, transform=transforms.ToTensor()\n",
    "            )\n",
    "\n",
    "        def __getitem__(self, index):\n",
    "            img, target = self.data[index]/255, self.targets[index]\n",
    "            img = torch.from_numpy(img)\n",
    "            img = img.float()\n",
    "            img = torch.transpose(img, 0, 2)\n",
    "            return img, target\n",
    "\n",
    "cifar_train = CNN_CIFAR10(\"./data\", train=True)\n",
    "cifar_train_loader = DataLoader(cifar_train, batch_size=128, shuffle=True)\n",
    "cifar_test = CNN_CIFAR10(\"./data\", train=False)\n",
    "cifar_test_loader = DataLoader(cifar_test, batch_size=10, shuffle=False)"
   ]
  },
  {
   "attachments": {},
   "cell_type": "markdown",
   "metadata": {},
   "source": [
    "Now we will create and train a CNN that takes 3 channel data. We will keep the number of epochs low for the sake of time, but feel free to increase the number to try for higher accuracy!"
   ]
  },
  {
   "cell_type": "code",
   "execution_count": 42,
   "metadata": {},
   "outputs": [
    {
     "data": {
      "application/vnd.jupyter.widget-view+json": {
       "model_id": "b94cb3cc098843a2a7b116b7a65417f5",
       "version_major": 2,
       "version_minor": 0
      },
      "text/plain": [
       "  0%|          | 0/5 [00:00<?, ?it/s]"
      ]
     },
     "metadata": {},
     "output_type": "display_data"
    },
    {
     "data": {
      "application/vnd.jupyter.widget-view+json": {
       "model_id": "ed8ea8a7228e48a7b12f62a7261ec99a",
       "version_major": 2,
       "version_minor": 0
      },
      "text/plain": [
       "  0%|          | 0/1000 [00:00<?, ?it/s]"
      ]
     },
     "metadata": {},
     "output_type": "display_data"
    },
    {
     "name": "stdout",
     "output_type": "stream",
     "text": [
      "Classification accuracy: 53.52%\n"
     ]
    },
    {
     "data": {
      "text/plain": [
       "0.5352"
      ]
     },
     "execution_count": 42,
     "metadata": {},
     "output_type": "execute_result"
    }
   ],
   "source": [
    "def create_cifar_cnn(): \n",
    "    cnn = nn.Sequential(\n",
    "        nn.Conv2d(3, 20, 5, 1, bias=False),\n",
    "        nn.ReLU(),\n",
    "        nn.AvgPool2d(2, 2),\n",
    "        nn.Conv2d(20, 32, 5, 1, bias=False),\n",
    "        nn.ReLU(),\n",
    "        nn.AvgPool2d(2, 2),\n",
    "        nn.Conv2d(32, 128, 3, 1, bias=False),\n",
    "        nn.ReLU(),\n",
    "\n",
    "        nn.AvgPool2d(2, 2),\n",
    "        nn.Flatten(),\n",
    "\n",
    "        nn.Linear(128, 500, bias=False),\n",
    "        nn.ReLU(),\n",
    "        nn.Linear(500, 10, bias=False),     \n",
    "    )\n",
    "    return cnn\n",
    "\n",
    "cifar_cnn = create_cifar_cnn()\n",
    "cifar_cnn = train_cnn(cifar_cnn, train_loader=cifar_train_loader, epochs = 5)\n",
    "cnn_accuracy(cifar_cnn, test_loader=cifar_test_loader)"
   ]
  },
  {
   "attachments": {},
   "cell_type": "markdown",
   "metadata": {},
   "source": [
    "Let's next make our CIFAR data class for the SNN. Again, we need to return a tensor with an extra dimension the length of the number of timesteps and only filled with 0 or 1s. "
   ]
  },
  {
   "cell_type": "code",
   "execution_count": 43,
   "metadata": {},
   "outputs": [
    {
     "name": "stdout",
     "output_type": "stream",
     "text": [
      "Files already downloaded and verified\n"
     ]
    }
   ],
   "source": [
    "class SNN_CIFAR10(datasets.CIFAR10):\n",
    "        def __init__(self, root, train=True, time_window = 100):\n",
    "            super().__init__(\n",
    "                root=root, train=train, download=True, transform=transforms.ToTensor()\n",
    "            )\n",
    "            self.time_window = time_window\n",
    "\n",
    "        def __getitem__(self, index):\n",
    "            img, target = self.data[index]/255, self.targets[index]\n",
    "            img = torch.from_numpy(img)\n",
    "            img = img.float()\n",
    "            img = torch.transpose(img, 0, 2)\n",
    "            img = (torch.rand(self.time_window, *img.shape) < img).float()\n",
    "            return img, target\n",
    "\n",
    "time_window = 100\n",
    "cifar_test_batch_size = 10\n",
    "cifar_spike_test = SNN_CIFAR10(\n",
    "        \"./data\", train=False, time_window = time_window\n",
    "    )\n",
    "cifar_spike_test_loader = DataLoader(\n",
    "    cifar_spike_test, batch_size=cifar_test_batch_size, shuffle=False\n",
    ")"
   ]
  },
  {
   "attachments": {},
   "cell_type": "markdown",
   "metadata": {},
   "source": [
    "We can visualize this process like we did for the MNIST data. First print the actual image:"
   ]
  },
  {
   "cell_type": "code",
   "execution_count": 44,
   "metadata": {},
   "outputs": [
    {
     "name": "stdout",
     "output_type": "stream",
     "text": [
      "Label: 9\n",
      "Name: truck\n"
     ]
    },
    {
     "data": {
      "image/png": "[encoded data removed]",
      "text/plain": [
       "<Figure size 640x480 with 1 Axes>"
      ]
     },
     "metadata": {},
     "output_type": "display_data"
    }
   ],
   "source": [
    "cifar_names = [\"airplane\", \"automobile\", \"bird\", \"cat\", \"deer\", \"dog\", \"frog\", \"horse\", \"ship\", \"truck\"]\n",
    "cifar_image_id = 11\n",
    "img, label = cifar_test[cifar_image_id]\n",
    "img = torch.transpose(img, 0, 2)\n",
    "print(\"Label: \" + str(label))\n",
    "print(\"Name: \" + cifar_names[label])\n",
    "plt.imshow(img)\n",
    "plt.show()"
   ]
  },
  {
   "attachments": {},
   "cell_type": "markdown",
   "metadata": {},
   "source": [
    "Now print the a slice of the result from the snn data loader. Compared to the MNIST data, instead of 1 channel we now have 3. Therefore 8 possible colors will be present in the resulting image. Rerun the code a couple of times to visualize the randomization process."
   ]
  },
  {
   "cell_type": "code",
   "execution_count": 45,
   "metadata": {},
   "outputs": [
    {
     "data": {
      "image/png": "[encoded data removed]",
      "text/plain": [
       "<Figure size 640x480 with 1 Axes>"
      ]
     },
     "metadata": {},
     "output_type": "display_data"
    }
   ],
   "source": [
    "img, label = cifar_spike_test[cifar_image_id]\n",
    "img = img[2,:]\n",
    "img = torch.squeeze(img)\n",
    "img = torch.transpose(img, 0, 2)\n",
    "plt.imshow(img)\n",
    "plt.show()"
   ]
  },
  {
   "attachments": {},
   "cell_type": "markdown",
   "metadata": {},
   "source": [
    "Now we can use the same CNN to SNN conversion function, and compare accuracies."
   ]
  },
  {
   "cell_type": "code",
   "execution_count": 46,
   "metadata": {},
   "outputs": [
    {
     "name": "stdout",
     "output_type": "stream",
     "text": [
      "CNN accuracy: \n"
     ]
    },
    {
     "data": {
      "application/vnd.jupyter.widget-view+json": {
       "model_id": "86738712419449369d8dba54cf3ab486",
       "version_major": 2,
       "version_minor": 0
      },
      "text/plain": [
       "  0%|          | 0/1000 [00:00<?, ?it/s]"
      ]
     },
     "metadata": {},
     "output_type": "display_data"
    },
    {
     "name": "stdout",
     "output_type": "stream",
     "text": [
      "Classification accuracy: 53.52%\n",
      "SNN accuracy: \n"
     ]
    },
    {
     "data": {
      "application/vnd.jupyter.widget-view+json": {
       "model_id": "fa04f9d3574743678ab6b52f01820922",
       "version_major": 2,
       "version_minor": 0
      },
      "text/plain": [
       "  0%|          | 0/1000 [00:00<?, ?it/s]"
      ]
     },
     "metadata": {},
     "output_type": "display_data"
    },
    {
     "name": "stdout",
     "output_type": "stream",
     "text": [
      "Classification accuracy: 51.13999999999999%\n"
     ]
    },
    {
     "data": {
      "text/plain": [
       "0.5114"
      ]
     },
     "execution_count": 46,
     "metadata": {},
     "output_type": "execute_result"
    }
   ],
   "source": [
    "input_shape = (3, 32, 32)\n",
    "timesteps = 100\n",
    "cifar_snn = convert_to_snn(cifar_cnn, input_shape=input_shape, timesteps=timesteps)\n",
    "\n",
    "print(\"CNN accuracy: \")\n",
    "cnn_accuracy(cifar_cnn, test_loader=cifar_test_loader)\n",
    "print(\"SNN accuracy: \")\n",
    "snn_accuracy(cifar_snn, test_loader = cifar_spike_test_loader, test_batch_size=cifar_test_batch_size)\n"
   ]
  },
  {
   "attachments": {},
   "cell_type": "markdown",
   "metadata": {},
   "source": [
    "We can again visualize the post-synaptic spikes to see how our SNN is classifying the CIFAR-10 images. Change around the cifar_image_id number to look at other data. This visualization is also useful because we can see what other images the model sometimes confuses the correct answer with. As a reminder here is the order of CIFAR-10 classes: 0. airplane 1. automobile 2. bird 3. cat 4. deer 5. dog 6. frog 7. horse 8. ship 9. truck"
   ]
  },
  {
   "cell_type": "code",
   "execution_count": 47,
   "metadata": {},
   "outputs": [
    {
     "name": "stdout",
     "output_type": "stream",
     "text": [
      "Label: 9\n",
      "Name: truck\n"
     ]
    },
    {
     "data": {
      "image/png": "[encoded data removed]",
      "text/plain": [
       "<Figure size 640x480 with 1 Axes>"
      ]
     },
     "metadata": {},
     "output_type": "display_data"
    }
   ],
   "source": [
    "#Change this number to visualize other data\n",
    "cifar_image_id = 11\n",
    "\n",
    "img, label = cifar_spike_test[cifar_image_id]\n",
    "snn_output = cifar_snn(img)\n",
    "\n",
    "print(\"Label: \" + str(label))\n",
    "print(\"Name: \" + cifar_names[label])\n",
    "plt.pcolormesh(snn_output.T.detach().cpu())\n",
    "plt.ylabel(\"Neuron ID\")\n",
    "plt.yticks(np.arange(10) + 0.5, np.arange(10))\n",
    "plt.xlabel(\"Time\")\n",
    "plt.show()"
   ]
  },
  {
   "attachments": {},
   "cell_type": "markdown",
   "metadata": {},
   "source": [
    "----\n",
    "### Test 3: Time and Energy Usage\n",
    "----"
   ]
  },
  {
   "attachments": {},
   "cell_type": "markdown",
   "metadata": {},
   "source": [
    "Since our primary motivation for creating spiking nerual networks was to find  a more energy efficient model, we ideally would compare the energy usage of our CNN and SNN on these classification tests. However, methods to classify energy usage that can run on all computers are quite diffifult to come by. Instead we will measure the inference time of tasks. First, however, let us see how quick we can make our SNN without compromising accuracy. Returning to our SNN for MNIST, we will test a range of timestep numbers to observe at what threshold our accuracy starts deteriorating. "
   ]
  },
  {
   "cell_type": "code",
   "execution_count": 48,
   "metadata": {},
   "outputs": [
    {
     "data": {
      "application/vnd.jupyter.widget-view+json": {
       "model_id": "b05cf2ba1db7483f95b8e0489bb79a49",
       "version_major": 2,
       "version_minor": 0
      },
      "text/plain": [
       "  0%|          | 0/20 [00:00<?, ?it/s]"
      ]
     },
     "metadata": {},
     "output_type": "display_data"
    },
    {
     "data": {
      "application/vnd.jupyter.widget-view+json": {
       "model_id": "e9b1cabe61d744a185f1a1ca56addfdd",
       "version_major": 2,
       "version_minor": 0
      },
      "text/plain": [
       "  0%|          | 0/20 [00:00<?, ?it/s]"
      ]
     },
     "metadata": {},
     "output_type": "display_data"
    },
    {
     "data": {
      "application/vnd.jupyter.widget-view+json": {
       "model_id": "56bc79a35d7645d0ab32835125b5a314",
       "version_major": 2,
       "version_minor": 0
      },
      "text/plain": [
       "  0%|          | 0/20 [00:00<?, ?it/s]"
      ]
     },
     "metadata": {},
     "output_type": "display_data"
    },
    {
     "data": {
      "application/vnd.jupyter.widget-view+json": {
       "model_id": "05759268b9264f38bf255649cb1d5591",
       "version_major": 2,
       "version_minor": 0
      },
      "text/plain": [
       "  0%|          | 0/20 [00:00<?, ?it/s]"
      ]
     },
     "metadata": {},
     "output_type": "display_data"
    },
    {
     "data": {
      "application/vnd.jupyter.widget-view+json": {
       "model_id": "4683e1d6b52d4d5eb5c98223bfac2c86",
       "version_major": 2,
       "version_minor": 0
      },
      "text/plain": [
       "  0%|          | 0/20 [00:00<?, ?it/s]"
      ]
     },
     "metadata": {},
     "output_type": "display_data"
    },
    {
     "data": {
      "application/vnd.jupyter.widget-view+json": {
       "model_id": "e6efa57a98ff45a5a366f818d086f2f7",
       "version_major": 2,
       "version_minor": 0
      },
      "text/plain": [
       "  0%|          | 0/20 [00:00<?, ?it/s]"
      ]
     },
     "metadata": {},
     "output_type": "display_data"
    },
    {
     "data": {
      "application/vnd.jupyter.widget-view+json": {
       "model_id": "a91b2e2816ea4eac9cea5fa501916efb",
       "version_major": 2,
       "version_minor": 0
      },
      "text/plain": [
       "  0%|          | 0/20 [00:00<?, ?it/s]"
      ]
     },
     "metadata": {},
     "output_type": "display_data"
    },
    {
     "data": {
      "application/vnd.jupyter.widget-view+json": {
       "model_id": "53f7c6ac6b144b96ac0b0b7e5ec0ba4b",
       "version_major": 2,
       "version_minor": 0
      },
      "text/plain": [
       "  0%|          | 0/20 [00:00<?, ?it/s]"
      ]
     },
     "metadata": {},
     "output_type": "display_data"
    },
    {
     "data": {
      "image/png": "[encoded data removed]",
      "text/plain": [
       "<Figure size 640x480 with 1 Axes>"
      ]
     },
     "metadata": {},
     "output_type": "display_data"
    }
   ],
   "source": [
    "mnist_test_batch_size = 500\n",
    "input_shape = (1, 28, 28)\n",
    "\n",
    "timesteps = [1, 2, 3, 5, 10, 20, 40, 60]\n",
    "accuracies = []\n",
    "for timestep in timesteps:\n",
    "    spike_mnist_test = SNN_MNIST(\"./data\", train=False, time_window=timestep)\n",
    "    spike_test_loader = DataLoader(spike_mnist_test, batch_size=mnist_test_batch_size, shuffle=False)\n",
    "    mnist_snn = convert_to_snn(mnist_cnn, input_shape=input_shape, timesteps=timestep)\n",
    "    accuracy = snn_accuracy(mnist_snn, test_loader = spike_test_loader, test_batch_size=mnist_test_batch_size, will_print=False)\n",
    "    accuracies.append(accuracy*100)\n",
    "plt.plot(timesteps, accuracies)\n",
    "plt.xlabel(\"Number of Time Steps\")\n",
    "plt.ylabel(\"% Accuracy\")\n",
    "plt.show()    "
   ]
  },
  {
   "attachments": {},
   "cell_type": "markdown",
   "metadata": {},
   "source": [
    "So it appears we can reduce the number of timesteps to as low as ~5 while still keeping accuracy over 90%. Let's next measure the inference time while changing the number of timesteps using a slightly altered accuracy function."
   ]
  },
  {
   "cell_type": "code",
   "execution_count": 49,
   "metadata": {},
   "outputs": [
    {
     "data": {
      "application/vnd.jupyter.widget-view+json": {
       "model_id": "af2b13271c1b4c598d94e3485122668f",
       "version_major": 2,
       "version_minor": 0
      },
      "text/plain": [
       "  0%|          | 0/20 [00:00<?, ?it/s]"
      ]
     },
     "metadata": {},
     "output_type": "display_data"
    },
    {
     "data": {
      "application/vnd.jupyter.widget-view+json": {
       "model_id": "ddf7305b0e1641a1bacf3c3983c30c28",
       "version_major": 2,
       "version_minor": 0
      },
      "text/plain": [
       "  0%|          | 0/20 [00:00<?, ?it/s]"
      ]
     },
     "metadata": {},
     "output_type": "display_data"
    },
    {
     "data": {
      "application/vnd.jupyter.widget-view+json": {
       "model_id": "0685ddc9cc4d4857a5a3382db3c354fa",
       "version_major": 2,
       "version_minor": 0
      },
      "text/plain": [
       "  0%|          | 0/20 [00:00<?, ?it/s]"
      ]
     },
     "metadata": {},
     "output_type": "display_data"
    },
    {
     "data": {
      "application/vnd.jupyter.widget-view+json": {
       "model_id": "900394d6ca944a1d862774f320340bce",
       "version_major": 2,
       "version_minor": 0
      },
      "text/plain": [
       "  0%|          | 0/20 [00:00<?, ?it/s]"
      ]
     },
     "metadata": {},
     "output_type": "display_data"
    },
    {
     "data": {
      "application/vnd.jupyter.widget-view+json": {
       "model_id": "d2ff699ee2a248899614a8359db707ce",
       "version_major": 2,
       "version_minor": 0
      },
      "text/plain": [
       "  0%|          | 0/20 [00:00<?, ?it/s]"
      ]
     },
     "metadata": {},
     "output_type": "display_data"
    },
    {
     "data": {
      "application/vnd.jupyter.widget-view+json": {
       "model_id": "af73fa89404049e09a106c3b0a7d8895",
       "version_major": 2,
       "version_minor": 0
      },
      "text/plain": [
       "  0%|          | 0/20 [00:00<?, ?it/s]"
      ]
     },
     "metadata": {},
     "output_type": "display_data"
    },
    {
     "data": {
      "application/vnd.jupyter.widget-view+json": {
       "model_id": "c93ec0321105482a917293c90b8b2a37",
       "version_major": 2,
       "version_minor": 0
      },
      "text/plain": [
       "  0%|          | 0/20 [00:00<?, ?it/s]"
      ]
     },
     "metadata": {},
     "output_type": "display_data"
    },
    {
     "data": {
      "application/vnd.jupyter.widget-view+json": {
       "model_id": "87d63a135a114989adf7ab5a4df5ea07",
       "version_major": 2,
       "version_minor": 0
      },
      "text/plain": [
       "  0%|          | 0/20 [00:00<?, ?it/s]"
      ]
     },
     "metadata": {},
     "output_type": "display_data"
    },
    {
     "data": {
      "image/png": "[encoded data removed]",
      "text/plain": [
       "<Figure size 640x480 with 1 Axes>"
      ]
     },
     "metadata": {},
     "output_type": "display_data"
    }
   ],
   "source": [
    "import time\n",
    "\n",
    "def snn_inference_time(snn, test_loader, test_batch_size):\n",
    "    correct_predictions = []\n",
    "    start_time = time.time()\n",
    "    for data, target in tqdm(test_loader):\n",
    "        data = sl.FlattenTime()(data)\n",
    "        with torch.no_grad():\n",
    "            output = snn(data)\n",
    "            output = output.unflatten(\n",
    "                0, (test_batch_size, output.shape[0] // test_batch_size)\n",
    "            )\n",
    "\n",
    "        pred = output.sum(1).argmax(dim=1, keepdim=True)\n",
    "        correct_predictions.append(pred.eq(target.view_as(pred)))\n",
    "    correct_predictions = torch.cat(correct_predictions)\n",
    "    proportion_correct = correct_predictions.sum().item()/(len(correct_predictions))\n",
    "    end_time = time.time()\n",
    "    inference_time = end_time - start_time\n",
    "    return inference_time\n",
    "\n",
    "\n",
    "inference_times = []\n",
    "for timestep in timesteps:\n",
    "    spike_mnist_test = SNN_MNIST(\"./data\", train=False, time_window=timestep)\n",
    "    spike_test_loader = DataLoader(spike_mnist_test, batch_size=mnist_test_batch_size, shuffle=False)\n",
    "    mnist_snn = convert_to_snn(mnist_cnn, input_shape=input_shape, timesteps=timestep)\n",
    "    inference_time = snn_inference_time(mnist_snn, test_loader = spike_test_loader, test_batch_size=mnist_test_batch_size)\n",
    "    inference_times.append(inference_time)\n",
    "plt.plot(timesteps, inference_times)\n",
    "plt.xlabel(\"Number of Time Steps\")\n",
    "plt.ylabel(\"Inference time\")\n",
    "plt.show()    "
   ]
  },
  {
   "attachments": {},
   "cell_type": "markdown",
   "metadata": {},
   "source": [
    "As we might expect, the relationship between the number of timesteps and the inference time is essentially linear. Let's plot the inference of the CNN as well."
   ]
  },
  {
   "cell_type": "code",
   "execution_count": 50,
   "metadata": {},
   "outputs": [
    {
     "data": {
      "application/vnd.jupyter.widget-view+json": {
       "model_id": "758e21149f6c4db4b4e3a3af5372c8d0",
       "version_major": 2,
       "version_minor": 0
      },
      "text/plain": [
       "  0%|          | 0/20 [00:00<?, ?it/s]"
      ]
     },
     "metadata": {},
     "output_type": "display_data"
    },
    {
     "data": {
      "image/png": "[encoded data removed]",
      "text/plain": [
       "<Figure size 640x480 with 1 Axes>"
      ]
     },
     "metadata": {},
     "output_type": "display_data"
    }
   ],
   "source": [
    "def cnn_inference_time(cnn, test_loader):\n",
    "    correct_predictions = []\n",
    "    start_time = time.time()\n",
    "    for data, target in tqdm(test_loader):\n",
    "        output = cnn(data)\n",
    "\n",
    "        prediction = output.argmax(dim=1, keepdim=True)\n",
    "\n",
    "        correct_predictions.append(prediction.eq(target.view_as(prediction)))\n",
    "\n",
    "    correct_predictions = torch.cat(correct_predictions)\n",
    "    proportion_correct = correct_predictions.sum().item()/(len(correct_predictions))\n",
    "    end_time = time.time()\n",
    "    inference_time = end_time - start_time\n",
    "    return inference_time\n",
    "mnist_test_loader = DataLoader(mnist_test, batch_size=mnist_test_batch_size, shuffle=False)\n",
    "cnn_it = cnn_inference_time(mnist_cnn, test_loader=mnist_test_loader)\n",
    "plt.plot(timesteps, inference_times, color=\"blue\", label = \"SNN inference time\")\n",
    "plt.xlabel(\"Number of Time Steps\")\n",
    "plt.ylabel(\"Inference time\")\n",
    "plt.axhline(cnn_it,color = \"red\", label=\"CNN inference time\")\n",
    "plt.legend()\n",
    "plt.show()   "
   ]
  },
  {
   "attachments": {},
   "cell_type": "markdown",
   "metadata": {},
   "source": [
    "Even on the smallest number of timesteps (1), the CNN inference time is less than that for the SNN. This is because to take advantage of spiking neural network efficiencies, one would need a neuromorphic computer with a chip that employs physical artificial neurons for computations. Perhaps in the future we will all have neuromorphic computers and the results from the python notebook will look quite different!"
   ]
  },
  {
   "attachments": {},
   "cell_type": "markdown",
   "metadata": {},
   "source": [
    "Finally, if you happen to be on a Linux computer you can pseudo-directly measure the energy use of a function by using a package such as pyRAPL. Try out the code below if you're interested!"
   ]
  },
  {
   "cell_type": "code",
   "execution_count": 51,
   "metadata": {},
   "outputs": [
    {
     "ename": "FileNotFoundError",
     "evalue": "[Errno 2] No such file or directory: '/sys/devices/system/cpu/present'",
     "output_type": "error",
     "traceback": [
      "\u001b[0;31m---------------------------------------------------------------------------\u001b[0m",
      "\u001b[0;31mFileNotFoundError\u001b[0m                         Traceback (most recent call last)",
      "Cell \u001b[0;32mIn[51], line 2\u001b[0m\n\u001b[1;32m      1\u001b[0m \u001b[39mimport\u001b[39;00m \u001b[39mpyRAPL\u001b[39;00m\n\u001b[0;32m----> 2\u001b[0m pyRAPL\u001b[39m.\u001b[39;49msetup()\n\u001b[1;32m      4\u001b[0m \u001b[39m@pyRAPL\u001b[39m\u001b[39m.\u001b[39mmeasure\n\u001b[1;32m      5\u001b[0m \u001b[39mdef\u001b[39;00m \u001b[39msnn_energy_usage\u001b[39m(snn, test_loader, test_batch_size):\n\u001b[1;32m      6\u001b[0m     correct_predictions \u001b[39m=\u001b[39m []\n",
      "File \u001b[0;32m/Library/Frameworks/Python.framework/Versions/3.12/lib/python3.12/site-packages/pyRAPL/pyRAPL.py:39\u001b[0m, in \u001b[0;36msetup\u001b[0;34m(devices, socket_ids)\u001b[0m\n\u001b[1;32m     25\u001b[0m \u001b[39mdef\u001b[39;00m \u001b[39msetup\u001b[39m(devices: Optional[List[Device]] \u001b[39m=\u001b[39m \u001b[39mNone\u001b[39;00m, socket_ids: Optional[List[\u001b[39mint\u001b[39m]] \u001b[39m=\u001b[39m \u001b[39mNone\u001b[39;00m):\n\u001b[1;32m     26\u001b[0m \u001b[39m    \u001b[39m\u001b[39m\"\"\"\u001b[39;00m\n\u001b[1;32m     27\u001b[0m \u001b[39m    Configure which device and CPU socket should be monitored by pyRAPL\u001b[39;00m\n\u001b[1;32m     28\u001b[0m \n\u001b[0;32m   (...)\u001b[0m\n\u001b[1;32m     37\u001b[0m \u001b[39m    :raise PyRAPLBadSocketIdException: if the given socket in parameter doesn't exist\u001b[39;00m\n\u001b[1;32m     38\u001b[0m \u001b[39m    \"\"\"\u001b[39;00m\n\u001b[0;32m---> 39\u001b[0m     pyRAPL\u001b[39m.\u001b[39m_sensor \u001b[39m=\u001b[39m Sensor(devices\u001b[39m=\u001b[39;49mdevices, socket_ids\u001b[39m=\u001b[39;49msocket_ids)\n",
      "File \u001b[0;32m/Library/Frameworks/Python.framework/Versions/3.12/lib/python3.12/site-packages/pyRAPL/sensor.py:59\u001b[0m, in \u001b[0;36mSensor.__init__\u001b[0;34m(self, devices, socket_ids)\u001b[0m\n\u001b[1;32m     57\u001b[0m \u001b[39mfor\u001b[39;00m device \u001b[39min\u001b[39;00m tmp_device:\n\u001b[1;32m     58\u001b[0m     \u001b[39mtry\u001b[39;00m:\n\u001b[0;32m---> 59\u001b[0m         \u001b[39mself\u001b[39m\u001b[39m.\u001b[39m_device_api[device] \u001b[39m=\u001b[39m DeviceAPIFactory\u001b[39m.\u001b[39;49mcreate_device_api(device, socket_ids)\n\u001b[1;32m     60\u001b[0m         \u001b[39mself\u001b[39m\u001b[39m.\u001b[39m_available_devices\u001b[39m.\u001b[39mappend(device)\n\u001b[1;32m     61\u001b[0m     \u001b[39mexcept\u001b[39;00m PyRAPLCantInitDeviceAPI:\n",
      "File \u001b[0;32m/Library/Frameworks/Python.framework/Versions/3.12/lib/python3.12/site-packages/pyRAPL/device_api.py:186\u001b[0m, in \u001b[0;36mDeviceAPIFactory.create_device_api\u001b[0;34m(device, socket_ids)\u001b[0m\n\u001b[1;32m    180\u001b[0m \u001b[39m\u001b[39m\u001b[39m\"\"\"\u001b[39;00m\n\u001b[1;32m    181\u001b[0m \u001b[39m:param device: the device corresponding to the DeviceAPI to be created\u001b[39;00m\n\u001b[1;32m    182\u001b[0m \u001b[39m:param socket_ids: param that will be passed to the constructor of the DeviceAPI instance\u001b[39;00m\n\u001b[1;32m    183\u001b[0m \u001b[39m:return: a DeviceAPI instance\u001b[39;00m\n\u001b[1;32m    184\u001b[0m \u001b[39m\"\"\"\u001b[39;00m\n\u001b[1;32m    185\u001b[0m \u001b[39mif\u001b[39;00m device \u001b[39m==\u001b[39m Device\u001b[39m.\u001b[39mPKG:\n\u001b[0;32m--> 186\u001b[0m     \u001b[39mreturn\u001b[39;00m PkgAPI(socket_ids)\n\u001b[1;32m    187\u001b[0m \u001b[39mif\u001b[39;00m device \u001b[39m==\u001b[39m Device\u001b[39m.\u001b[39mDRAM:\n\u001b[1;32m    188\u001b[0m     \u001b[39mreturn\u001b[39;00m DramAPI(socket_ids)\n",
      "File \u001b[0;32m/Library/Frameworks/Python.framework/Versions/3.12/lib/python3.12/site-packages/pyRAPL/device_api.py:137\u001b[0m, in \u001b[0;36mPkgAPI.__init__\u001b[0;34m(self, socket_ids)\u001b[0m\n\u001b[1;32m    136\u001b[0m \u001b[39mdef\u001b[39;00m \u001b[39m__init__\u001b[39m(\u001b[39mself\u001b[39m, socket_ids: Optional[\u001b[39mint\u001b[39m] \u001b[39m=\u001b[39m \u001b[39mNone\u001b[39;00m):\n\u001b[0;32m--> 137\u001b[0m     DeviceAPI\u001b[39m.\u001b[39;49m\u001b[39m__init__\u001b[39;49m(\u001b[39mself\u001b[39;49m, socket_ids)\n",
      "File \u001b[0;32m/Library/Frameworks/Python.framework/Versions/3.12/lib/python3.12/site-packages/pyRAPL/device_api.py:68\u001b[0m, in \u001b[0;36mDeviceAPI.__init__\u001b[0;34m(self, socket_ids)\u001b[0m\n\u001b[1;32m     60\u001b[0m \u001b[39mdef\u001b[39;00m \u001b[39m__init__\u001b[39m(\u001b[39mself\u001b[39m, socket_ids: Optional[List[\u001b[39mint\u001b[39m]] \u001b[39m=\u001b[39m \u001b[39mNone\u001b[39;00m):\n\u001b[1;32m     61\u001b[0m \u001b[39m    \u001b[39m\u001b[39m\"\"\"\u001b[39;00m\n\u001b[1;32m     62\u001b[0m \u001b[39m    :param int socket_ids: if None, the API will get the energy consumption of the whole machine otherwise, it will\u001b[39;00m\n\u001b[1;32m     63\u001b[0m \u001b[39m                           get the energy consumption of the device on the given socket package\u001b[39;00m\n\u001b[0;32m   (...)\u001b[0m\n\u001b[1;32m     66\u001b[0m \u001b[39m    :raise PyRAPLBadSocketIdException: the machine where is initialised the DeviceAPI has no the requested socket\u001b[39;00m\n\u001b[1;32m     67\u001b[0m \u001b[39m    \"\"\"\u001b[39;00m\n\u001b[0;32m---> 68\u001b[0m     all_socket_id \u001b[39m=\u001b[39m get_socket_ids()\n\u001b[1;32m     69\u001b[0m     \u001b[39mif\u001b[39;00m socket_ids \u001b[39mis\u001b[39;00m \u001b[39mNone\u001b[39;00m:\n\u001b[1;32m     70\u001b[0m         \u001b[39mself\u001b[39m\u001b[39m.\u001b[39m_socket_ids \u001b[39m=\u001b[39m all_socket_id\n",
      "File \u001b[0;32m/Library/Frameworks/Python.framework/Versions/3.12/lib/python3.12/site-packages/pyRAPL/device_api.py:49\u001b[0m, in \u001b[0;36mget_socket_ids\u001b[0;34m()\u001b[0m\n\u001b[1;32m     45\u001b[0m \u001b[39m\u001b[39m\u001b[39m\"\"\"\u001b[39;00m\n\u001b[1;32m     46\u001b[0m \u001b[39mreturn cpu socket id present on the machine\u001b[39;00m\n\u001b[1;32m     47\u001b[0m \u001b[39m\"\"\"\u001b[39;00m\n\u001b[1;32m     48\u001b[0m socket_id_list \u001b[39m=\u001b[39m []\n\u001b[0;32m---> 49\u001b[0m \u001b[39mfor\u001b[39;00m cpu_id \u001b[39min\u001b[39;00m cpu_ids():\n\u001b[1;32m     50\u001b[0m     api_file \u001b[39m=\u001b[39m \u001b[39mopen\u001b[39m(\u001b[39m'\u001b[39m\u001b[39m/sys/devices/system/cpu/cpu\u001b[39m\u001b[39m'\u001b[39m \u001b[39m+\u001b[39m \u001b[39mstr\u001b[39m(cpu_id) \u001b[39m+\u001b[39m \u001b[39m'\u001b[39m\u001b[39m/topology/physical_package_id\u001b[39m\u001b[39m'\u001b[39m)\n\u001b[1;32m     51\u001b[0m     socket_id_list\u001b[39m.\u001b[39mappend(\u001b[39mint\u001b[39m(api_file\u001b[39m.\u001b[39mreadline()\u001b[39m.\u001b[39mstrip()))\n",
      "File \u001b[0;32m/Library/Frameworks/Python.framework/Versions/3.12/lib/python3.12/site-packages/pyRAPL/device_api.py:31\u001b[0m, in \u001b[0;36mcpu_ids\u001b[0;34m()\u001b[0m\n\u001b[1;32m     27\u001b[0m \u001b[39mdef\u001b[39;00m \u001b[39mcpu_ids\u001b[39m() \u001b[39m-\u001b[39m\u001b[39m>\u001b[39m List[\u001b[39mint\u001b[39m]:\n\u001b[1;32m     28\u001b[0m \u001b[39m    \u001b[39m\u001b[39m\"\"\"\u001b[39;00m\n\u001b[1;32m     29\u001b[0m \u001b[39m    return the cpu id of this machine\u001b[39;00m\n\u001b[1;32m     30\u001b[0m \u001b[39m    \"\"\"\u001b[39;00m\n\u001b[0;32m---> 31\u001b[0m     api_file \u001b[39m=\u001b[39m \u001b[39mopen\u001b[39;49m(\u001b[39m'\u001b[39;49m\u001b[39m/sys/devices/system/cpu/present\u001b[39;49m\u001b[39m'\u001b[39;49m, \u001b[39m'\u001b[39;49m\u001b[39mr\u001b[39;49m\u001b[39m'\u001b[39;49m)\n\u001b[1;32m     33\u001b[0m     cpu_id_tmp \u001b[39m=\u001b[39m re\u001b[39m.\u001b[39mfindall(\u001b[39m'\u001b[39m\u001b[39m\\\u001b[39m\u001b[39md+|-\u001b[39m\u001b[39m'\u001b[39m, api_file\u001b[39m.\u001b[39mreadline()\u001b[39m.\u001b[39mstrip())\n\u001b[1;32m     34\u001b[0m     cpu_id_list \u001b[39m=\u001b[39m []\n",
      "\u001b[0;31mFileNotFoundError\u001b[0m: [Errno 2] No such file or directory: '/sys/devices/system/cpu/present'"
     ]
    }
   ],
   "source": [
    "import pyRAPL\n",
    "pyRAPL.setup()\n",
    "\n",
    "@pyRAPL.measure\n",
    "def snn_energy_usage(snn, test_loader, test_batch_size):\n",
    "    correct_predictions = []\n",
    "    start_time = time.time()\n",
    "    for data, target in tqdm(test_loader):\n",
    "        data = sl.FlattenTime()(data)\n",
    "        with torch.no_grad():\n",
    "            output = snn(data)\n",
    "            output = output.unflatten(\n",
    "                0, (test_batch_size, output.shape[0] // test_batch_size)\n",
    "            )\n",
    "\n",
    "        pred = output.sum(1).argmax(dim=1, keepdim=True)\n",
    "        correct_predictions.append(pred.eq(target.view_as(pred)))\n",
    "    correct_predictions = torch.cat(correct_predictions)\n",
    "    proportion_correct = correct_predictions.sum().item()/(len(correct_predictions))\n",
    "    end_time = time.time()\n",
    "    inference_time = end_time - start_time\n",
    "    return inference_time\n",
    "\n",
    "@pyRAPL.measure\n",
    "def cnn_energy_usage(cnn, test_loader):\n",
    "    correct_predictions = []\n",
    "    start_time = time.time()\n",
    "    for data, target in tqdm(test_loader):\n",
    "        output = cnn(data)\n",
    "\n",
    "        prediction = output.argmax(dim=1, keepdim=True)\n",
    "\n",
    "        correct_predictions.append(prediction.eq(target.view_as(prediction)))\n",
    "\n",
    "    correct_predictions = torch.cat(correct_predictions)\n",
    "    proportion_correct = correct_predictions.sum().item()/(len(correct_predictions))\n",
    "    end_time = time.time()\n",
    "    inference_time = end_time - start_time\n",
    "    return inference_time\n",
    "\n",
    "mnist_test_batch_size = 500\n",
    "input_shape = (1, 28, 28)\n",
    "\n",
    "timesteps = [1, 2, 3]\n",
    "print(\"SNN energy usage: \")\n",
    "for timestep in timesteps:\n",
    "    print(\"Number of timesteps: \" + str(timestep))\n",
    "    spike_mnist_test = SNN_MNIST(\"./data\", train=False, time_window=timestep)\n",
    "    spike_test_loader = DataLoader(spike_mnist_test, batch_size=mnist_test_batch_size, shuffle=False)\n",
    "    mnist_snn = convert_to_snn(mnist_cnn, input_shape=input_shape, timesteps=timestep)\n",
    "    snn_energy_usage(mnist_snn, test_loader = spike_test_loader, test_batch_size=mnist_test_batch_size)\n",
    "    \n",
    "print(\"CNN energy usage: \")\n",
    "mnist_test_loader = DataLoader(mnist_test, batch_size=mnist_test_batch_size, shuffle=False)\n",
    "cnn_it = cnn_energy_usage(mnist_cnn, test_loader=mnist_test_loader)"
   ]
  }
 ],
 "metadata": {
  "colab": {
   "collapsed_sections": [],
   "name": "rubikques.ipynb",
   "provenance": [],
   "version": "0.3.2"
  },
  "kernelspec": {
   "display_name": "Python 3",
   "language": "python",
   "name": "python3"
  },
  "language_info": {
   "codemirror_mode": {
    "name": "ipython",
    "version": 3
   },
   "file_extension": ".py",
   "mimetype": "text/x-python",
   "name": "python",
   "nbconvert_exporter": "python",
   "pygments_lexer": "ipython3",
   "version": "3.12.2"
  },
  "vscode": {
   "interpreter": {
    "hash": "31f2aee4e71d21fbe5cf8b01ff0e069b9275f58929596ceb00d14d90e3e16cd6"
   }
  }
 },
 "nbformat": 4,
 "nbformat_minor": 1
}
